{
  "name": "dependabot-test-project",
  "version": "1.0.0",
  "description": "Test file for Dependabot alert",
  "dependencies": {
    // 🛑 This version is intentionally old and vulnerable 🛑
    "express": "4.15.2" 
  }
}
